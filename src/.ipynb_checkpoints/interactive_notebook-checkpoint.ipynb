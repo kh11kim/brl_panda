{
 "cells": [
  {
   "cell_type": "markdown",
   "metadata": {
    "tags": []
   },
   "source": [
    "### Panda interactive Control"
   ]
  },
  {
   "cell_type": "markdown",
   "metadata": {},
   "source": [
    "1. open a new terminal\n",
    "1. launch a file by **roslaunch enable_panda.launch**"
   ]
  },
  {
   "cell_type": "code",
   "execution_count": 1,
   "metadata": {},
   "outputs": [
    {
     "name": "stdout",
     "output_type": "stream",
     "text": [
      "Using matplotlib backend: Qt5Agg\n"
     ]
    }
   ],
   "source": [
    "%matplotlib"
   ]
  },
  {
   "cell_type": "code",
   "execution_count": 2,
   "metadata": {},
   "outputs": [
    {
     "ename": "ImportError",
     "evalue": "cannot import name 'panda_ros_py' from 'brl_panda' (unknown location)",
     "output_type": "error",
     "traceback": [
      "\u001b[0;31m---------------------------------------------------------------------------\u001b[0m",
      "\u001b[0;31mImportError\u001b[0m                               Traceback (most recent call last)",
      "\u001b[0;32m/tmp/ipykernel_228178/565161491.py\u001b[0m in \u001b[0;36m<module>\u001b[0;34m\u001b[0m\n\u001b[0;32m----> 1\u001b[0;31m \u001b[0;32mfrom\u001b[0m \u001b[0mbrl_panda\u001b[0m \u001b[0;32mimport\u001b[0m \u001b[0mpanda_ros_py\u001b[0m\u001b[0;34m\u001b[0m\u001b[0;34m\u001b[0m\u001b[0m\n\u001b[0m",
      "\u001b[0;31mImportError\u001b[0m: cannot import name 'panda_ros_py' from 'brl_panda' (unknown location)"
     ]
    }
   ],
   "source": [
    "from brl_panda import panda_ros_py"
   ]
  },
  {
   "cell_type": "code",
   "execution_count": 7,
   "metadata": {},
   "outputs": [
    {
     "ename": "NameError",
     "evalue": "name 'panda_ros_py' is not defined",
     "output_type": "error",
     "traceback": [
      "\u001b[0;31m---------------------------------------------------------------------------\u001b[0m",
      "\u001b[0;31mNameError\u001b[0m                                 Traceback (most recent call last)",
      "\u001b[0;32m/tmp/ipykernel_221254/2135612478.py\u001b[0m in \u001b[0;36m<module>\u001b[0;34m\u001b[0m\n\u001b[0;32m----> 1\u001b[0;31m \u001b[0mpanda_ros_py\u001b[0m\u001b[0;34m\u001b[0m\u001b[0;34m\u001b[0m\u001b[0m\n\u001b[0m",
      "\u001b[0;31mNameError\u001b[0m: name 'panda_ros_py' is not defined"
     ]
    }
   ],
   "source": [
    "panda_ros_py"
   ]
  },
  {
   "cell_type": "code",
   "execution_count": 5,
   "metadata": {},
   "outputs": [
    {
     "ename": "ModuleNotFoundError",
     "evalue": "No module named 'panda_ros_py'",
     "output_type": "error",
     "traceback": [
      "\u001b[0;31m---------------------------------------------------------------------------\u001b[0m",
      "\u001b[0;31mModuleNotFoundError\u001b[0m                       Traceback (most recent call last)",
      "\u001b[0;32m/tmp/ipykernel_220370/2246132224.py\u001b[0m in \u001b[0;36m<module>\u001b[0;34m\u001b[0m\n\u001b[1;32m      1\u001b[0m \u001b[0;32mimport\u001b[0m \u001b[0mrospy\u001b[0m\u001b[0;34m\u001b[0m\u001b[0;34m\u001b[0m\u001b[0m\n\u001b[0;32m----> 2\u001b[0;31m \u001b[0;32mfrom\u001b[0m \u001b[0mpanda_ros_py\u001b[0m \u001b[0;32mimport\u001b[0m \u001b[0;34m*\u001b[0m\u001b[0;34m\u001b[0m\u001b[0;34m\u001b[0m\u001b[0m\n\u001b[0m\u001b[1;32m      3\u001b[0m \u001b[0;32mfrom\u001b[0m \u001b[0mspatial_math\u001b[0m\u001b[0;34m.\u001b[0m\u001b[0mspatial_math\u001b[0m \u001b[0;32mimport\u001b[0m \u001b[0;34m*\u001b[0m\u001b[0;34m\u001b[0m\u001b[0;34m\u001b[0m\u001b[0m\n",
      "\u001b[0;31mModuleNotFoundError\u001b[0m: No module named 'panda_ros_py'"
     ]
    }
   ],
   "source": [
    "import rospy\n",
    "from panda_ros_py import *\n",
    "from spatial_math.spatial_math import *"
   ]
  },
  {
   "cell_type": "markdown",
   "metadata": {},
   "source": [
    "### Plot config"
   ]
  },
  {
   "cell_type": "code",
   "execution_count": 7,
   "metadata": {
    "tags": []
   },
   "outputs": [],
   "source": [
    "base.axeslength = 0.1\n",
    "base.axeswidth = 1\n",
    "SE3().plot_init(dims=np.array([-1,0,-1,0,-0,1])*0.5)"
   ]
  },
  {
   "cell_type": "code",
   "execution_count": 4,
   "metadata": {},
   "outputs": [],
   "source": [
    "SE3().plot_clear()"
   ]
  },
  {
   "cell_type": "code",
   "execution_count": 3,
   "metadata": {},
   "outputs": [],
   "source": [
    "# This makes this notebook script as a node\n",
    "rospy.init_node(\"abc\")"
   ]
  },
  {
   "cell_type": "code",
   "execution_count": 4,
   "metadata": {},
   "outputs": [
    {
     "name": "stdout",
     "output_type": "stream",
     "text": [
      "[INFO] [1633526841.439110]: Waiting for gripper action servers... \n",
      "[INFO] [1633526842.424203]: Gripper action servers found!\n",
      "[INFO] [1633526842.429410]: Arm is connected\n"
     ]
    }
   ],
   "source": [
    "g = Gripper()\n",
    "a = Arm()"
   ]
  },
  {
   "cell_type": "code",
   "execution_count": 5,
   "metadata": {},
   "outputs": [],
   "source": [
    "def generate_trajectory(n, start_pose, end_pose):\n",
    "    R_start, p_start = start_pose.R, start_pose.p\n",
    "    R_end, p_end = end_pose.R, end_pose.p\n",
    "    s_list = np.linspace(0,1,n)\n",
    "    err_axis, err_angle = SO3(R_start.T@R_end).to_axisangle()\n",
    "    \n",
    "    T_list = []\n",
    "    for s in s_list:\n",
    "        R = R_start @ SO3().axisangle(err_axis, err_angle*s).R\n",
    "        p = p_start + s * (p_end - p_start)\n",
    "        T_list.append(SE3(R,p))\n",
    "    return T_list\n",
    "\n",
    "def move(arm, traj):\n",
    "    for T in traj:\n",
    "        ori, pos = T.to_qtn_trans()\n",
    "        arm.set_eq_pose(pos, ori)\n",
    "        #rospy.loginfo(\"moving... pos:{}, ori:{} \\n\".format(np.round(pos,2),np.round(ori,2)))\n",
    "        rospy.sleep(0.1)"
   ]
  },
  {
   "cell_type": "code",
   "execution_count": 8,
   "metadata": {},
   "outputs": [],
   "source": [
    "T = SE3(a.get_EE_pose())\n",
    "T.plot(frame=\"EE\")"
   ]
  },
  {
   "cell_type": "code",
   "execution_count": 9,
   "metadata": {},
   "outputs": [],
   "source": [
    "T2 = T@SE3().trans([0.1,0,0])\n",
    "T2.plot(frame=\"target\")"
   ]
  },
  {
   "cell_type": "code",
   "execution_count": 10,
   "metadata": {},
   "outputs": [],
   "source": [
    "T_list = generate_trajectory(100, T, T2)"
   ]
  },
  {
   "cell_type": "code",
   "execution_count": 11,
   "metadata": {},
   "outputs": [],
   "source": [
    "move(a, T_list)"
   ]
  },
  {
   "cell_type": "code",
   "execution_count": 12,
   "metadata": {},
   "outputs": [
    {
     "data": {
      "text/plain": [
       "SE3 Class\n",
       "array([[-0.9687621 , -0.14559399, -0.2007085 , -0.54080401],\n",
       "       [-0.12258557,  0.98483242, -0.12271478, -0.36837834],\n",
       "       [ 0.21553077, -0.09427747, -0.97193476,  0.16983149],\n",
       "       [ 0.        ,  0.        ,  0.        ,  1.        ]])"
      ]
     },
     "execution_count": 12,
     "metadata": {},
     "output_type": "execute_result"
    }
   ],
   "source": [
    "T_list[-1]"
   ]
  },
  {
   "cell_type": "code",
   "execution_count": 13,
   "metadata": {},
   "outputs": [
    {
     "data": {
      "text/plain": [
       "array([[-0.93709171, -0.10636822, -0.33245722, -0.52113611],\n",
       "       [-0.0630325 ,  0.98833818, -0.13854841, -0.3598948 ],\n",
       "       [ 0.34331731, -0.10887696, -0.93288613,  0.1768449 ],\n",
       "       [ 0.        ,  0.        ,  0.        ,  1.        ]])"
      ]
     },
     "execution_count": 13,
     "metadata": {},
     "output_type": "execute_result"
    }
   ],
   "source": [
    "a.get_EE_pose()"
   ]
  },
  {
   "cell_type": "code",
   "execution_count": 19,
   "metadata": {},
   "outputs": [
    {
     "data": {
      "text/plain": [
       "array([[-0.9337418 , -0.118131  , -0.33786723, -0.53480543],\n",
       "       [-0.07736742,  0.98825392, -0.13171767, -0.36812569],\n",
       "       [ 0.34945856, -0.09685037, -0.93193143,  0.17091154],\n",
       "       [ 0.        ,  0.        ,  0.        ,  1.        ]])"
      ]
     },
     "execution_count": 19,
     "metadata": {},
     "output_type": "execute_result"
    }
   ],
   "source": [
    "a.get_EE_pose()"
   ]
  },
  {
   "cell_type": "code",
   "execution_count": 23,
   "metadata": {},
   "outputs": [],
   "source": [
    "a.set_translational_stiffness(300)"
   ]
  },
  {
   "cell_type": "code",
   "execution_count": 96,
   "metadata": {},
   "outputs": [
    {
     "data": {
      "text/plain": [
       "array([[-0.96546899, -0.20492533, -0.16079953, -0.45094036],\n",
       "       [-0.18999748,  0.9763097 , -0.103447  , -0.34976985],\n",
       "       [ 0.17818905, -0.06932336, -0.98155093,  0.16045833],\n",
       "       [ 0.        ,  0.        ,  0.        ,  1.        ]])"
      ]
     },
     "execution_count": 96,
     "metadata": {},
     "output_type": "execute_result"
    }
   ],
   "source": [
    "a.get_EE_pose()"
   ]
  }
 ],
 "metadata": {
  "kernelspec": {
   "display_name": "Python 3 (ipykernel)",
   "language": "python",
   "name": "python3"
  },
  "language_info": {
   "codemirror_mode": {
    "name": "ipython",
    "version": 3
   },
   "file_extension": ".py",
   "mimetype": "text/x-python",
   "name": "python",
   "nbconvert_exporter": "python",
   "pygments_lexer": "ipython3",
   "version": "3.8.8"
  }
 },
 "nbformat": 4,
 "nbformat_minor": 4
}
