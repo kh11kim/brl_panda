{
 "cells": [
  {
   "cell_type": "markdown",
   "metadata": {
    "tags": []
   },
   "source": [
    "### Panda interactive Control"
   ]
  },
  {
   "cell_type": "markdown",
   "metadata": {},
   "source": [
    "1. open a new terminal\n",
    "1. launch a file by **roslaunch enable_panda.launch**"
   ]
  },
  {
   "cell_type": "code",
   "execution_count": 1,
   "metadata": {},
   "outputs": [
    {
     "name": "stdout",
     "output_type": "stream",
     "text": [
      "Using matplotlib backend: Qt5Agg\n"
     ]
    }
   ],
   "source": [
    "%matplotlib"
   ]
  },
  {
   "cell_type": "code",
   "execution_count": 2,
   "metadata": {},
   "outputs": [],
   "source": [
    "import rospy\n",
    "from brl_panda.panda_ros_py import *\n",
    "from brl_panda.spatial_math.spatial_math import *"
   ]
  },
  {
   "cell_type": "markdown",
   "metadata": {},
   "source": [
    "### Plot config"
   ]
  },
  {
   "cell_type": "code",
   "execution_count": 3,
   "metadata": {
    "tags": []
   },
   "outputs": [],
   "source": [
    "base.axeslength = 0.1\n",
    "base.axeswidth = 1\n",
    "SE3().plot_init(dims=np.array([-1,0,-1,0,-0,1])*0.5)"
   ]
  },
  {
   "cell_type": "code",
   "execution_count": 4,
   "metadata": {},
   "outputs": [],
   "source": [
    "SE3().plot_clear()"
   ]
  },
  {
   "cell_type": "code",
   "execution_count": 4,
   "metadata": {},
   "outputs": [],
   "source": [
    "# This makes this notebook script as a node\n",
    "rospy.init_node(\"panda_interactive\")"
   ]
  },
  {
   "cell_type": "code",
   "execution_count": 5,
   "metadata": {},
   "outputs": [
    {
     "name": "stdout",
     "output_type": "stream",
     "text": [
      "[INFO] [1633528096.612290]: Waiting for gripper action servers... \n",
      "[INFO] [1633528097.566933]: Gripper action servers found!\n",
      "[INFO] [1633528097.572045]: Arm is connected\n"
     ]
    }
   ],
   "source": [
    "g = Gripper()\n",
    "a = Arm()"
   ]
  },
  {
   "cell_type": "code",
   "execution_count": 6,
   "metadata": {},
   "outputs": [],
   "source": [
    "def generate_trajectory(n, start_pose, end_pose):\n",
    "    R_start, p_start = start_pose.R, start_pose.p\n",
    "    R_end, p_end = end_pose.R, end_pose.p\n",
    "    s_list = np.linspace(0,1,n)\n",
    "    err_axis, err_angle = SO3(R_start.T@R_end).to_axisangle()\n",
    "    \n",
    "    T_list = []\n",
    "    for s in s_list:\n",
    "        R = R_start @ SO3().axisangle(err_axis, err_angle*s).R\n",
    "        p = p_start + s * (p_end - p_start)\n",
    "        T_list.append(SE3(R,p))\n",
    "    return T_list\n",
    "\n",
    "def move(arm, traj):\n",
    "    for T in traj:\n",
    "        ori, pos = T.to_qtn_trans()\n",
    "        arm.set_eq_pose(pos, ori)\n",
    "        #rospy.loginfo(\"moving... pos:{}, ori:{} \\n\".format(np.round(pos,2),np.round(ori,2)))\n",
    "        rospy.sleep(0.1)"
   ]
  },
  {
   "cell_type": "code",
   "execution_count": 13,
   "metadata": {},
   "outputs": [],
   "source": [
    "T = SE3(a.get_EE_pose())\n",
    "T.plot(frame=\"EE\")"
   ]
  },
  {
   "cell_type": "code",
   "execution_count": 8,
   "metadata": {},
   "outputs": [],
   "source": [
    "T2 = T@SE3().trans([-0.1,0,0])\n",
    "T2.plot(frame=\"target\")"
   ]
  },
  {
   "cell_type": "code",
   "execution_count": 9,
   "metadata": {},
   "outputs": [],
   "source": [
    "T_list = generate_trajectory(100, T, T2)"
   ]
  },
  {
   "cell_type": "code",
   "execution_count": 10,
   "metadata": {},
   "outputs": [],
   "source": [
    "move(a, T_list)"
   ]
  },
  {
   "cell_type": "code",
   "execution_count": 12,
   "metadata": {},
   "outputs": [],
   "source": [
    "a.set_translational_stiffness(300)"
   ]
  },
  {
   "cell_type": "code",
   "execution_count": 96,
   "metadata": {},
   "outputs": [
    {
     "data": {
      "text/plain": [
       "array([[-0.96546899, -0.20492533, -0.16079953, -0.45094036],\n",
       "       [-0.18999748,  0.9763097 , -0.103447  , -0.34976985],\n",
       "       [ 0.17818905, -0.06932336, -0.98155093,  0.16045833],\n",
       "       [ 0.        ,  0.        ,  0.        ,  1.        ]])"
      ]
     },
     "execution_count": 96,
     "metadata": {},
     "output_type": "execute_result"
    }
   ],
   "source": [
    "a.get_EE_pose()"
   ]
  }
 ],
 "metadata": {
  "kernelspec": {
   "display_name": "Python 3 (ipykernel)",
   "language": "python",
   "name": "python3"
  },
  "language_info": {
   "codemirror_mode": {
    "name": "ipython",
    "version": 3
   },
   "file_extension": ".py",
   "mimetype": "text/x-python",
   "name": "python",
   "nbconvert_exporter": "python",
   "pygments_lexer": "ipython3",
   "version": "3.8.8"
  }
 },
 "nbformat": 4,
 "nbformat_minor": 4
}
